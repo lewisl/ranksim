{
 "cells": [
  {
   "cell_type": "code",
   "execution_count": 201,
   "id": "7299892d-69e7-4f6d-8671-a287639883d9",
   "metadata": {},
   "outputs": [],
   "source": [
    "using StatsBase\n",
    "using Distributions\n",
    "using Plots\n",
    "using Random\n",
    "using BenchmarkTools"
   ]
  },
  {
   "cell_type": "code",
   "execution_count": 202,
   "id": "a09acd44-61d5-46fb-b636-55a429972827",
   "metadata": {},
   "outputs": [],
   "source": [
    "includet(\"../source/simrankvoting.jl\")"
   ]
  },
  {
   "cell_type": "code",
   "execution_count": 203,
   "id": "10a624ab-4d93-4bed-80b8-f00a2ac37ff5",
   "metadata": {},
   "outputs": [
    {
     "data": {
      "text/plain": [
       "100"
      ]
     },
     "execution_count": 203,
     "metadata": {},
     "output_type": "execute_result"
    }
   ],
   "source": [
    "n_cans = 6 # number of candidates\n",
    "n_ranks = 4 # how many rankings for each candidate\n",
    "n_voters = 100"
   ]
  },
  {
   "cell_type": "code",
   "execution_count": 204,
   "id": "c9e3fee4-8a30-445a-a4ff-0e7e6d31118f",
   "metadata": {
    "tags": []
   },
   "outputs": [
    {
     "data": {
      "text/plain": [
       "12×4 Matrix{Int64}:\n",
       " 1  2  3  5\n",
       " 2  1  3  4\n",
       " 1  2  4  3\n",
       " 1  2  5  3\n",
       " 2  1  4  5\n",
       " 2  1  3  4\n",
       " 2  1  3  4\n",
       " 1  3  4  2\n",
       " 3  1  5  4\n",
       " 3  4  5  1\n",
       " 4  3  2  1\n",
       " 4  5  3  2"
      ]
     },
     "execution_count": 204,
     "metadata": {},
     "output_type": "execute_result"
    }
   ],
   "source": [
    "# make an example\n",
    "\n",
    "ballots_1 = [\n",
    "    1  2  3  5;\n",
    "    2  1  3  4;\n",
    "    1  2  4  3;\n",
    "    1  2  5  3;\n",
    "    2  1  4  5;\n",
    "    2  1  3  4;\n",
    "    2  1  3  4;\n",
    "    1  3  4  2;\n",
    "    3  1  5  4;\n",
    "    3  4  5  1;\n",
    "    4  3  2  1;\n",
    "    4  5  3  2\n",
    "]"
   ]
  },
  {
   "cell_type": "code",
   "execution_count": 205,
   "id": "0d0543a4-fde5-4482-aba6-8bd7d27d7760",
   "metadata": {},
   "outputs": [
    {
     "data": {
      "text/plain": [
       "Dict{Int64, Int64} with 4 entries:\n",
       "  4 => 2\n",
       "  2 => 4\n",
       "  3 => 2\n",
       "  1 => 4"
      ]
     },
     "execution_count": 205,
     "metadata": {},
     "output_type": "execute_result"
    }
   ],
   "source": [
    "result = countmap(ballots_1[:,1], alg=:dict)"
   ]
  },
  {
   "cell_type": "code",
   "execution_count": 206,
   "id": "3753737a-a8a8-4a77-a71c-7b562754ff06",
   "metadata": {},
   "outputs": [
    {
     "data": {
      "text/plain": [
       "(2, 4)"
      ]
     },
     "execution_count": 206,
     "metadata": {},
     "output_type": "execute_result"
    }
   ],
   "source": [
    "findmin(result)"
   ]
  },
  {
   "cell_type": "code",
   "execution_count": 207,
   "id": "d9a9d55b-06d0-4efc-8ff3-18b62bdfb84d",
   "metadata": {},
   "outputs": [
    {
     "data": {
      "text/plain": [
       "(2, [4, 3], [9, 10, 11, 12])"
      ]
     },
     "execution_count": 207,
     "metadata": {},
     "output_type": "execute_result"
    }
   ],
   "source": [
    "find_losers(ballots_1, 1, [result])"
   ]
  },
  {
   "cell_type": "code",
   "execution_count": 208,
   "id": "33483eb6-3a45-4675-a31e-eb9923063c20",
   "metadata": {},
   "outputs": [
    {
     "name": "stdout",
     "output_type": "stream",
     "text": [
      "\n",
      "Step 2: got to more than 3 candidates\n",
      "Starting position\n",
      "{4 : 2, 2 : 4, 3 : 2, 1 : 4}\n",
      "Eliminating candidates: [4, 3]\n",
      "reassigned\n",
      "{\n",
      "  4 => 2 : 2,\n",
      "  3 => 1 : 2,\n",
      "}\n",
      "outcome\n",
      "{2 : 6, 1 : 6}\n",
      "\n",
      "Step 3: got to exactly 2 candidates\n",
      "Starting position: Tie!\n",
      "{2 : 6, 1 : 6}\n",
      "reassigned\n",
      "{\n",
      "  2 => 1 : 5,\n",
      "  1 => 2 : 4,\n",
      "}\n",
      "outcome\n",
      "{2 : 5, 1 : 7}\n",
      "Final outcome\n",
      "{2 : 5, 1 : 7}\n"
     ]
    },
    {
     "data": {
      "text/plain": [
       "([1], [Dict(4 => 2, 2 => 4, 3 => 2, 1 => 4), Dict(2 => 6, 1 => 6), Dict(2 => 5, 1 => 7)])"
      ]
     },
     "execution_count": 208,
     "metadata": {},
     "output_type": "execute_result"
    }
   ],
   "source": [
    "vote_count(ballots_1, quiet=false)"
   ]
  },
  {
   "cell_type": "code",
   "execution_count": 209,
   "id": "e0bc86ca-2ad0-4142-809b-684ae795e741",
   "metadata": {},
   "outputs": [
    {
     "data": {
      "text/plain": [
       "([1], [Dict(4 => 2, 2 => 4, 3 => 2, 1 => 4), Dict(2 => 6, 1 => 6), Dict(2 => 5, 1 => 7)])"
      ]
     },
     "execution_count": 209,
     "metadata": {},
     "output_type": "execute_result"
    }
   ],
   "source": [
    "vote_count(ballots_1)"
   ]
  },
  {
   "cell_type": "code",
   "execution_count": 210,
   "id": "c767aa2d-49f0-408a-b543-f363361dcf11",
   "metadata": {},
   "outputs": [
    {
     "name": "stdout",
     "output_type": "stream",
     "text": [
      "\n",
      "Step 2: got to more than 3 candidates\n",
      "starting position\n",
      "Tie!\n",
      "{2 : 4, 3 : 4, 1 : 4}\n",
      "reassigned\n",
      "{\n",
      "  2 => 3 : 1,\n",
      "  2 => 1 : 3,\n",
      "  3 => 1 : 3,\n",
      "  1 => 2 : 4,\n",
      "  3 => 2 : 1,\n",
      "}\n",
      "outcome\n",
      "{2 : 5, 3 : 1, 1 : 6}\n",
      "\n",
      "Step 3: got to more than 3 candidates\n",
      "Starting position\n",
      "{2 : 5, 3 : 1, 1 : 6}\n",
      "Eliminating candidates: [3]\n",
      "reassigned\n",
      "{\n",
      "  3 => 1 : 1,\n",
      "}\n",
      "outcome\n",
      "{2 : 5, 1 : 7}\n",
      "Final outcome\n",
      "{2 : 5, 1 : 7}\n"
     ]
    },
    {
     "data": {
      "text/plain": [
       "([1], [Dict(2 => 4, 3 => 4, 1 => 4), Dict(2 => 5, 3 => 1, 1 => 6), Dict(2 => 5, 1 => 7)])"
      ]
     },
     "execution_count": 210,
     "metadata": {},
     "output_type": "execute_result"
    }
   ],
   "source": [
    "vote_count(ballots_2, quiet=false)"
   ]
  },
  {
   "cell_type": "code",
   "execution_count": 211,
   "id": "b0144522-6acb-47ce-a9dc-df13b12b2733",
   "metadata": {},
   "outputs": [
    {
     "data": {
      "text/plain": [
       "12×4 Matrix{Int64}:\n",
       " 1  2  3  5\n",
       " 1  2  3  4\n",
       " 1  2  4  3\n",
       " 1  2  5  3\n",
       " 2  1  4  5\n",
       " 2  1  3  4\n",
       " 2  1  3  4\n",
       " 2  3  4  1\n",
       " 3  1  5  4\n",
       " 3  4  5  1\n",
       " 3  1  2  4\n",
       " 3  5  4  2"
      ]
     },
     "execution_count": 211,
     "metadata": {},
     "output_type": "execute_result"
    }
   ],
   "source": [
    "ballots_2 = [\n",
    "    1  2  3  5;\n",
    "    1  2  3  4;\n",
    "    1  2  4  3;\n",
    "    1  2  5  3;\n",
    "    2  1  4  5;\n",
    "    2  1  3  4;\n",
    "    2  1  3  4;\n",
    "    2  3  4  1;\n",
    "    3  1  5  4;\n",
    "    3  4  5  1;\n",
    "    3  1  2  4;\n",
    "    3  5  4  2\n",
    "]"
   ]
  },
  {
   "cell_type": "code",
   "execution_count": 212,
   "id": "6686a697-4088-45fa-b020-f66961d5ab25",
   "metadata": {},
   "outputs": [
    {
     "data": {
      "text/plain": [
       "5×4 Matrix{Int64}:\n",
       " 4  5  0  2\n",
       " 4  4  1  1\n",
       " 4  1  4  2\n",
       " 0  1  4  5\n",
       " 0  1  3  2"
      ]
     },
     "execution_count": 212,
     "metadata": {},
     "output_type": "execute_result"
    }
   ],
   "source": [
    "breakdown(ballots_2, 1)"
   ]
  },
  {
   "cell_type": "code",
   "execution_count": 213,
   "id": "981b32c5-a681-4604-89cd-191bef9688cd",
   "metadata": {},
   "outputs": [
    {
     "data": {
      "text/plain": [
       "5×4 Matrix{Float64}:\n",
       " 0.333333  0.416667   0.0        0.166667\n",
       " 0.333333  0.333333   0.0833333  0.0833333\n",
       " 0.333333  0.0833333  0.333333   0.166667\n",
       " 0.0       0.0833333  0.333333   0.416667\n",
       " 0.0       0.0833333  0.25       0.166667"
      ]
     },
     "execution_count": 213,
     "metadata": {},
     "output_type": "execute_result"
    }
   ],
   "source": [
    "breakdown(ballots_2, 1.0)"
   ]
  },
  {
   "cell_type": "code",
   "execution_count": 214,
   "id": "90d4b26c-45c2-4c2f-9d98-3a0ce480477d",
   "metadata": {},
   "outputs": [
    {
     "data": {
      "text/plain": [
       "10000000×4 Matrix{Int64}:\n",
       " 6  1  2  3\n",
       " 3  4  5  6\n",
       " 5  6  1  2\n",
       " 2  3  4  5\n",
       " 4  5  6  1\n",
       " 6  1  2  3\n",
       " 1  2  3  4\n",
       " 3  4  5  6\n",
       " 1  2  3  4\n",
       " 4  5  6  1\n",
       " 5  6  1  2\n",
       " 1  2  3  4\n",
       " 3  4  5  6\n",
       " ⋮        \n",
       " 1  2  3  4\n",
       " 1  2  3  4\n",
       " 2  3  4  5\n",
       " 6  1  2  3\n",
       " 5  6  1  2\n",
       " 3  4  5  6\n",
       " 1  2  3  4\n",
       " 4  5  6  1\n",
       " 3  4  5  6\n",
       " 4  5  6  1\n",
       " 1  2  3  4\n",
       " 4  5  6  1"
      ]
     },
     "execution_count": 214,
     "metadata": {},
     "output_type": "execute_result"
    }
   ],
   "source": [
    "ballots_3 = setup_ballots(prs,n_voters=10_000_000, n_cans=n_cans, n_ranks=n_ranks)"
   ]
  },
  {
   "cell_type": "code",
   "execution_count": 215,
   "id": "8f6fc061-5337-4398-96b4-6344d5b4b082",
   "metadata": {},
   "outputs": [
    {
     "data": {
      "text/plain": [
       "([1], [Dict(5 => 1204494, 4 => 1544065, 6 => 913394, 2 => 2191220, 3 => 1900329, 1 => 2246498), Dict(5 => 1204494, 4 => 1544065, 2 => 2191220, 3 => 1900329, 1 => 3159892), Dict(4 => 0, 2 => 2191220, 3 => 1900329, 1 => 4703957)])"
      ]
     },
     "execution_count": 215,
     "metadata": {},
     "output_type": "execute_result"
    }
   ],
   "source": [
    "vote_count(ballots_3)"
   ]
  },
  {
   "cell_type": "code",
   "execution_count": 216,
   "id": "9c1086b8-f54b-4f32-9fd2-20757b6447c4",
   "metadata": {
    "lines_to_next_cell": 2
   },
   "outputs": [
    {
     "data": {
      "text/plain": [
       "11×4 Matrix{Int64}:\n",
       " 1  2  3  5\n",
       " 1  2  3  4\n",
       " 1  2  4  3\n",
       " 2  1  4  5\n",
       " 2  1  3  4\n",
       " 3  1  5  4\n",
       " 3  4  5  1\n",
       " 4  3  2  5\n",
       " 4  2  1  5\n",
       " 5  1  2  4\n",
       " 5  3  2  4"
      ]
     },
     "execution_count": 216,
     "metadata": {},
     "output_type": "execute_result"
    }
   ],
   "source": [
    "ballots_4 = [\n",
    "    1  2  3  5;\n",
    "    1  2  3  4;\n",
    "    1  2  4  3;\n",
    "    2  1  4  5;\n",
    "    2  1  3  4;\n",
    "    3  1  5  4;\n",
    "    3  4  5  1;\n",
    "    4  3  2  5;\n",
    "    4  2  1  5;\n",
    "    5  1  2  4;\n",
    "    5  3  2  4\n",
    "]"
   ]
  },
  {
   "cell_type": "code",
   "execution_count": 217,
   "id": "ec4b5b58-e1a4-46df-b9cd-93b24629d7dd",
   "metadata": {},
   "outputs": [
    {
     "name": "stdout",
     "output_type": "stream",
     "text": [
      "\n",
      "Step 2: got to more than 3 candidates\n",
      "Starting position\n",
      "{5 : 2, 4 : 2, 2 : 2, 3 : 2, 1 : 3}\n",
      "\n",
      "\n",
      "\n",
      "*** BREAK TIE AMONG LOSERS ***\n",
      "\n",
      "Step 2: got to more than 3 candidates\n",
      "starting position\n",
      "Tie!\n",
      "{5 : 2, 4 : 2, 2 : 2, 3 : 2}\n",
      "reassigned\n",
      "{\n",
      "  2 => 3 : 1,\n",
      "  4 => 2 : 1,\n",
      "  5 => 2 : 1,\n",
      "  2 => 4 : 1,\n",
      "  3 => 5 : 1,\n",
      "  3 => 4 : 1,\n",
      "  4 => 3 : 1,\n",
      "  5 => 3 : 1,\n",
      "}\n",
      "outcome\n",
      "{5 : 1, 4 : 2, 2 : 2, 3 : 3}\n",
      "\n",
      "Step 3: got to more than 3 candidates\n",
      "Starting position\n",
      "{5 : 1, 4 : 2, 2 : 2, 3 : 3}\n",
      "Eliminating candidates: [5]\n",
      "reassigned\n",
      "{}\n",
      "outcome\n",
      "{4 : 2, 2 : 2, 3 : 3}\n",
      "Final outcome\n",
      "{4 : 2, 2 : 2, 3 : 3}\n",
      "*** RETURN LOSERS AFTER TIE BROKEN ***\n",
      "\n",
      "\n",
      "\n",
      "Eliminating candidates: [5, 4, 2]\n",
      "reassigned\n",
      "{\n",
      "  2 => 1 : 2,\n",
      "  4 => 3 : 1,\n",
      "  4 => 1 : 1,\n",
      "  5 => 3 : 1,\n",
      "  5 => 1 : 1,\n",
      "}\n",
      "outcome\n",
      "{3 : 4, 1 : 7}\n",
      "Final outcome\n",
      "{3 : 4, 1 : 7}\n"
     ]
    },
    {
     "data": {
      "text/plain": [
       "([1], [Dict(5 => 2, 4 => 2, 2 => 2, 3 => 2, 1 => 3), Dict(3 => 4, 1 => 7)])"
      ]
     },
     "execution_count": 217,
     "metadata": {},
     "output_type": "execute_result"
    }
   ],
   "source": [
    "vote_count(ballots_4, quiet=false)"
   ]
  },
  {
   "cell_type": "code",
   "execution_count": 218,
   "id": "00bb8775-83a5-4412-a580-8b1e898abf33",
   "metadata": {},
   "outputs": [
    {
     "data": {
      "text/plain": [
       "Dict{Int64, Int64} with 5 entries:\n",
       "  5 => 2\n",
       "  4 => 3\n",
       "  2 => 3\n",
       "  3 => 4\n",
       "  1 => 4"
      ]
     },
     "execution_count": 218,
     "metadata": {},
     "output_type": "execute_result"
    }
   ],
   "source": [
    "countmap(ballots_4[4:11,1:2], alg=:dict)"
   ]
  },
  {
   "cell_type": "code",
   "execution_count": 219,
   "id": "0985bf59-321e-44d1-a805-73d4c5197485",
   "metadata": {},
   "outputs": [
    {
     "data": {
      "text/plain": [
       "Dict{Int64, Int64} with 5 entries:\n",
       "  5 => 2\n",
       "  4 => 3\n",
       "  2 => 3\n",
       "  3 => 4\n",
       "  1 => 4"
      ]
     },
     "execution_count": 219,
     "metadata": {},
     "output_type": "execute_result"
    }
   ],
   "source": [
    "countmap(ballots_4[4:11,1:2], alg=:dict)"
   ]
  },
  {
   "cell_type": "code",
   "execution_count": 220,
   "id": "2af976c3-2e3b-436a-b694-8e2446782331",
   "metadata": {
    "lines_to_next_cell": 2,
    "tags": []
   },
   "outputs": [
    {
     "data": {
      "text/plain": [
       "11×4 Matrix{Int64}:\n",
       " 1  2  3  5\n",
       " 1  2  3  4\n",
       " 1  2  4  3\n",
       " 2  3  4  5\n",
       " 2  3  5  4\n",
       " 3  2  5  4\n",
       " 3  4  5  1\n",
       " 4  3  2  5\n",
       " 4  3  1  5\n",
       " 5  3  2  4\n",
       " 5  3  2  4"
      ]
     },
     "execution_count": 220,
     "metadata": {},
     "output_type": "execute_result"
    }
   ],
   "source": [
    "ballots_5 = [\n",
    "    1  2  3  5;\n",
    "    1  2  3  4;\n",
    "    1  2  4  3;\n",
    "    2  3  4  5;\n",
    "    2  3  5  4;\n",
    "    3  2  5  4;\n",
    "    3  4  5  1;\n",
    "    4  3  2  5;\n",
    "    4  3  1  5;\n",
    "    5  3  2  4;\n",
    "    5  3  2  4\n",
    "]"
   ]
  },
  {
   "cell_type": "code",
   "execution_count": 221,
   "id": "c7a262ab-ddd8-45ab-a6f4-f95a298421eb",
   "metadata": {
    "tags": []
   },
   "outputs": [
    {
     "name": "stdout",
     "output_type": "stream",
     "text": [
      "\n",
      "Step 2: got to more than 3 candidates\n",
      "Starting position\n",
      "{5 : 2, 4 : 2, 2 : 2, 3 : 2, 1 : 3}\n",
      "\n",
      "\n",
      "\n",
      "*** BREAK TIE AMONG LOSERS ***\n",
      "\n",
      "Step 2: got to more than 3 candidates\n",
      "starting position\n",
      "Tie!\n",
      "{5 : 2, 4 : 2, 2 : 2, 3 : 2}\n",
      "reassigned\n",
      "{\n",
      "  2 => 3 : 2,\n",
      "  3 => 4 : 1,\n",
      "  4 => 3 : 2,\n",
      "  3 => 2 : 1,\n",
      "  5 => 3 : 2,\n",
      "}\n",
      "outcome\n",
      "{5 : 0, 4 : 1, 2 : 1, 3 : 6}\n",
      "Final outcome\n",
      "{5 : 0, 4 : 1, 2 : 1, 3 : 6}\n",
      "*** RETURN LOSERS AFTER TIE BROKEN ***\n",
      "\n",
      "\n",
      "\n",
      "Eliminating candidates: [5, 4, 2]\n",
      "reassigned\n",
      "{\n",
      "  2 => 3 : 2,\n",
      "  4 => 3 : 2,\n",
      "  5 => 3 : 2,\n",
      "}\n",
      "outcome\n",
      "{3 : 8, 1 : 3}\n",
      "Final outcome\n",
      "{3 : 8, 1 : 3}\n"
     ]
    },
    {
     "data": {
      "text/plain": [
       "([3], [Dict(5 => 2, 4 => 2, 2 => 2, 3 => 2, 1 => 3), Dict(3 => 8, 1 => 3)])"
      ]
     },
     "execution_count": 221,
     "metadata": {},
     "output_type": "execute_result"
    }
   ],
   "source": [
    "vote_count(ballots_5, quiet = false)"
   ]
  },
  {
   "cell_type": "code",
   "execution_count": 222,
   "id": "a2604fa1-ccbc-469c-bf62-d70ff5abc72a",
   "metadata": {},
   "outputs": [
    {
     "data": {
      "text/plain": [
       "Dict{Int64, Int64} with 5 entries:\n",
       "  5 => 5\n",
       "  4 => 5\n",
       "  2 => 9\n",
       "  3 => 10\n",
       "  1 => 4"
      ]
     },
     "execution_count": 222,
     "metadata": {},
     "output_type": "execute_result"
    }
   ],
   "source": [
    "countmap(ballots_5[:,1:3],alg=:dict)"
   ]
  },
  {
   "cell_type": "code",
   "execution_count": 223,
   "id": "339b5060-f4ad-4bcc-b0b5-5d7fefc6435b",
   "metadata": {},
   "outputs": [
    {
     "data": {
      "text/plain": [
       "5×3 Matrix{Int64}:\n",
       " 1  3  2\n",
       " 2  1  3\n",
       " 3  2  1\n",
       " 1  3  2\n",
       " 2  1  3"
      ]
     },
     "execution_count": 223,
     "metadata": {},
     "output_type": "execute_result"
    }
   ],
   "source": [
    "ballots_6 = [\n",
    "  1   3   2;\n",
    "  2   1   3;\n",
    "  3   2   1;\n",
    "  1   3   2;\n",
    "  2   1   3\n",
    "]"
   ]
  },
  {
   "cell_type": "code",
   "execution_count": 224,
   "id": "cffa9667-7de2-4245-8337-5006b93b1f7f",
   "metadata": {},
   "outputs": [
    {
     "data": {
      "text/plain": [
       "5×3 Matrix{Int64}:\n",
       " 1  3  0\n",
       " 2  1  3\n",
       " 3  0  0\n",
       " 1  3  0\n",
       " 2  1  3"
      ]
     },
     "execution_count": 224,
     "metadata": {},
     "output_type": "execute_result"
    }
   ],
   "source": [
    "ballots_6b = [\n",
    "  1   3   0;\n",
    "  2   1   3;\n",
    "  3   0   0;\n",
    "  1   3   0;\n",
    "  2   1   3\n",
    "]"
   ]
  },
  {
   "cell_type": "code",
   "execution_count": 225,
   "id": "ec4871e9-2231-490a-b948-f1b273c40f7d",
   "metadata": {},
   "outputs": [
    {
     "data": {
      "text/plain": [
       "5×3 Matrix{Int64}:\n",
       " 1  2  0\n",
       " 2  1  0\n",
       " 3  0  0\n",
       " 1  2  0\n",
       " 2  1  0"
      ]
     },
     "execution_count": 225,
     "metadata": {},
     "output_type": "execute_result"
    }
   ],
   "source": [
    "ballots_6c = [\n",
    "  1   2   0;\n",
    "  2   1   0;\n",
    "  3   0   0;\n",
    "  1   2   0;\n",
    "  2   1   0;\n",
    "]"
   ]
  },
  {
   "cell_type": "code",
   "execution_count": 226,
   "id": "5e1cf310-b195-479d-825f-2bd0c868738e",
   "metadata": {},
   "outputs": [
    {
     "name": "stdout",
     "output_type": "stream",
     "text": [
      "\n",
      "Step 2: got to more than 3 candidates\n",
      "Starting position\n",
      "{2 : 2, 3 : 1, 1 : 2}\n",
      "Eliminating candidates: [3]\n",
      "reassigned\n",
      "{\n",
      "  3 => 2 : 1,\n",
      "}\n",
      "outcome\n",
      "{2 : 3, 1 : 2}\n",
      "Final outcome\n",
      "{2 : 3, 1 : 2}\n"
     ]
    },
    {
     "data": {
      "text/plain": [
       "([2], [Dict(2 => 2, 3 => 1, 1 => 2), Dict(2 => 3, 1 => 2)])"
      ]
     },
     "execution_count": 226,
     "metadata": {},
     "output_type": "execute_result"
    }
   ],
   "source": [
    "vote_count(ballots_6, quiet=false)"
   ]
  },
  {
   "cell_type": "code",
   "execution_count": 227,
   "id": "03a2f2aa-773a-4466-b0cb-488003b3b550",
   "metadata": {},
   "outputs": [
    {
     "name": "stdout",
     "output_type": "stream",
     "text": [
      "\n",
      "Step 2: got to more than 3 candidates\n",
      "Starting position\n",
      "{2 : 2, 3 : 1, 1 : 2}\n",
      "Eliminating candidates: [3]\n",
      "reassigned\n",
      "{}\n",
      "outcome\n",
      "{2 : 2, 1 : 2}\n",
      "\n",
      "Step 3: got to exactly 2 candidates\n",
      "Starting position: Tie!\n",
      "{2 : 2, 1 : 2}\n",
      "reassigned\n",
      "{\n",
      "  2 => 1 : 2,\n",
      "}\n",
      "outcome\n",
      "{2 : 0, 1 : 4}\n",
      "Final outcome\n",
      "{2 : 0, 1 : 4}\n"
     ]
    },
    {
     "data": {
      "text/plain": [
       "([1], [Dict(2 => 2, 3 => 1, 1 => 2), Dict(2 => 2, 1 => 2), Dict(2 => 0, 1 => 4)])"
      ]
     },
     "execution_count": 227,
     "metadata": {},
     "output_type": "execute_result"
    }
   ],
   "source": [
    "vote_count(ballots_6b, quiet=false)"
   ]
  },
  {
   "cell_type": "code",
   "execution_count": 228,
   "id": "01954f11-b55a-4b79-acbc-77c737054e49",
   "metadata": {},
   "outputs": [
    {
     "name": "stdout",
     "output_type": "stream",
     "text": [
      "\n",
      "Step 2: got to more than 3 candidates\n",
      "Starting position\n",
      "{2 : 2, 3 : 1, 1 : 2}\n",
      "Eliminating candidates: [3]\n",
      "reassigned\n",
      "{}\n",
      "outcome\n",
      "{2 : 2, 1 : 2}\n",
      "\n",
      "Step 3: got to exactly 2 candidates\n",
      "Starting position: Tie!\n",
      "{2 : 2, 1 : 2}\n",
      "reassigned\n",
      "{\n",
      "  2 => 1 : 2,\n",
      "  1 => 2 : 2,\n",
      "}\n",
      "outcome\n",
      "{2 : 2, 1 : 2}\n",
      "Final outcome\n",
      "{2 : 2, 1 : 2}\n"
     ]
    },
    {
     "data": {
      "text/plain": [
       "([2, 1], [Dict(2 => 2, 3 => 1, 1 => 2), Dict(2 => 2, 1 => 2), Dict(2 => 2, 1 => 2)])"
      ]
     },
     "execution_count": 228,
     "metadata": {},
     "output_type": "execute_result"
    }
   ],
   "source": [
    "vote_count(ballots_6c, quiet=false)"
   ]
  },
  {
   "cell_type": "code",
   "execution_count": 229,
   "id": "ca46602c-6891-455d-8d08-a9f36ff2d964",
   "metadata": {
    "tags": []
   },
   "outputs": [
    {
     "data": {
      "text/plain": [
       "8×3 Matrix{Int64}:\n",
       " 1  2  3\n",
       " 1  2  3\n",
       " 1  3  2\n",
       " 2  3  1\n",
       " 2  3  1\n",
       " 2  3  1\n",
       " 3  2  1\n",
       " 3  2  1"
      ]
     },
     "execution_count": 229,
     "metadata": {},
     "output_type": "execute_result"
    }
   ],
   "source": [
    "ballots_7 = [\n",
    "  1  2  3;\n",
    "  1  2  3;\n",
    "  1  3  2;\n",
    "  2  3  1;\n",
    "  2  3  1;\n",
    "  2  3  1;\n",
    "  3  2  1;\n",
    "  3  2  1;\n",
    "]"
   ]
  },
  {
   "cell_type": "code",
   "execution_count": 230,
   "id": "45bcc2e8-0596-46a4-ab87-1040f6dd0ac5",
   "metadata": {},
   "outputs": [
    {
     "name": "stdout",
     "output_type": "stream",
     "text": [
      "\n",
      "Step 2: got to more than 3 candidates\n",
      "Starting position\n",
      "{2 : 3, 3 : 2, 1 : 3}\n",
      "Eliminating candidates: [3]\n",
      "reassigned\n",
      "{\n",
      "  3 => 2 : 2,\n",
      "}\n",
      "outcome\n",
      "{2 : 5, 1 : 3}\n",
      "Final outcome\n",
      "{2 : 5, 1 : 3}\n"
     ]
    },
    {
     "data": {
      "text/plain": [
       "([2], [Dict(2 => 3, 3 => 2, 1 => 3), Dict(2 => 5, 1 => 3)])"
      ]
     },
     "execution_count": 230,
     "metadata": {},
     "output_type": "execute_result"
    }
   ],
   "source": [
    "vote_count(ballots_7, quiet=false)"
   ]
  },
  {
   "cell_type": "code",
   "execution_count": 231,
   "id": "c17b7898-1024-434a-9a28-603f6d1fca5d",
   "metadata": {},
   "outputs": [
    {
     "data": {
      "text/plain": [
       "11×4 Matrix{Int64}:\n",
       " 1  2  3  5\n",
       " 1  2  3  4\n",
       " 1  2  4  3\n",
       " 2  3  4  5\n",
       " 2  3  5  4\n",
       " 3  2  5  4\n",
       " 3  4  5  1\n",
       " 4  3  2  5\n",
       " 4  3  1  5\n",
       " 5  3  2  4\n",
       " 5  3  2  4"
      ]
     },
     "execution_count": 231,
     "metadata": {},
     "output_type": "execute_result"
    }
   ],
   "source": [
    "ballots_5"
   ]
  },
  {
   "cell_type": "code",
   "execution_count": 232,
   "id": "91269af8-0a80-4feb-a879-be21ada16a62",
   "metadata": {},
   "outputs": [
    {
     "name": "stdout",
     "output_type": "stream",
     "text": [
      "\n",
      "Step 2: got to more than 3 candidates\n",
      "Starting position\n",
      "{5 : 2, 4 : 2, 2 : 2, 3 : 2, 1 : 3}\n",
      "\n",
      "\n",
      "\n",
      "*** BREAK TIE AMONG LOSERS ***\n",
      "\n",
      "Step 2: got to more than 3 candidates\n",
      "starting position\n",
      "Tie!\n",
      "{5 : 2, 4 : 2, 2 : 2, 3 : 2}\n",
      "reassigned\n",
      "{\n",
      "  2 => 3 : 2,\n",
      "  3 => 4 : 1,\n",
      "  4 => 3 : 2,\n",
      "  3 => 2 : 1,\n",
      "  5 => 3 : 2,\n",
      "}\n",
      "outcome\n",
      "{5 : 0, 4 : 1, 2 : 1, 3 : 6}\n",
      "Final outcome\n",
      "{5 : 0, 4 : 1, 2 : 1, 3 : 6}\n",
      "*** RETURN LOSERS AFTER TIE BROKEN ***\n",
      "\n",
      "\n",
      "\n",
      "Eliminating candidates: [5, 4, 2]\n",
      "reassigned\n",
      "{\n",
      "  2 => 3 : 2,\n",
      "  4 => 3 : 2,\n",
      "  5 => 3 : 2,\n",
      "}\n",
      "outcome\n",
      "{3 : 8, 1 : 3}\n",
      "Final outcome\n",
      "{3 : 8, 1 : 3}\n"
     ]
    },
    {
     "data": {
      "text/plain": [
       "([3], [Dict(5 => 2, 4 => 2, 2 => 2, 3 => 2, 1 => 3), Dict(3 => 8, 1 => 3)])"
      ]
     },
     "execution_count": 232,
     "metadata": {},
     "output_type": "execute_result"
    }
   ],
   "source": [
    "vote_count(ballots_5,quiet=false)"
   ]
  },
  {
   "cell_type": "markdown",
   "id": "a44f3a94-3e1f-416b-b696-bd963f853186",
   "metadata": {},
   "source": [
    "# Create rank distribution vectors"
   ]
  },
  {
   "cell_type": "code",
   "execution_count": 233,
   "id": "a818a204-7902-44f6-ac77-9047d6641044",
   "metadata": {},
   "outputs": [
    {
     "data": {
      "text/plain": [
       "100"
      ]
     },
     "execution_count": 233,
     "metadata": {},
     "output_type": "execute_result"
    }
   ],
   "source": [
    "n_cans = 6 # number of candidates\n",
    "n_ranks = 4 # how many rankings for each candidate\n",
    "n_voters = 100"
   ]
  },
  {
   "cell_type": "code",
   "execution_count": 234,
   "id": "8a98916f-cdd0-4a3b-9324-f62bc1a6ab1b",
   "metadata": {},
   "outputs": [
    {
     "data": {
      "text/plain": [
       "0.7083731377734374"
      ]
     },
     "execution_count": 234,
     "metadata": {},
     "output_type": "execute_result"
    }
   ],
   "source": [
    "r = 2  #  rth success\n",
    "p = 0.35  #  probability of success in a given trial\n",
    "# outcome is number of failures before the rth success\n",
    "nb = NegativeBinomial(r,p)\n",
    "pd = [pdf(nb,i) for i in 1:n_cans]\n",
    "sum(pd)"
   ]
  },
  {
   "cell_type": "code",
   "execution_count": 235,
   "id": "133d08c9-a0f4-4e09-b2bb-489b3485c67d",
   "metadata": {},
   "outputs": [
    {
     "data": {
      "image/svg+xml": [
       "<?xml version=\"1.0\" encoding=\"utf-8\"?>\n",
       "<svg xmlns=\"http://www.w3.org/2000/svg\" xmlns:xlink=\"http://www.w3.org/1999/xlink\" width=\"600\" height=\"400\" viewBox=\"0 0 2400 1600\">\n",
       "<defs>\n",
       "  <clipPath id=\"clip300\">\n",
       "    <rect x=\"0\" y=\"0\" width=\"2400\" height=\"1600\"/>\n",
       "  </clipPath>\n",
       "</defs>\n",
       "<path clip-path=\"url(#clip300)\" d=\"\n",
       "M0 1600 L2400 1600 L2400 0 L0 0  Z\n",
       "  \" fill=\"#ffffff\" fill-rule=\"evenodd\" fill-opacity=\"1\"/>\n",
       "<defs>\n",
       "  <clipPath id=\"clip301\">\n",
       "    <rect x=\"480\" y=\"0\" width=\"1681\" height=\"1600\"/>\n",
       "  </clipPath>\n",
       "</defs>\n",
       "<path clip-path=\"url(#clip300)\" d=\"\n",
       "M186.76 1486.45 L2352.76 1486.45 L2352.76 47.2441 L186.76 47.2441  Z\n",
       "  \" fill=\"#ffffff\" fill-rule=\"evenodd\" fill-opacity=\"1\"/>\n",
       "<defs>\n",
       "  <clipPath id=\"clip302\">\n",
       "    <rect x=\"186\" y=\"47\" width=\"2167\" height=\"1440\"/>\n",
       "  </clipPath>\n",
       "</defs>\n",
       "<polyline clip-path=\"url(#clip302)\" style=\"stroke:#000000; stroke-linecap:butt; stroke-linejoin:round; stroke-width:2; stroke-opacity:0.1; fill:none\" points=\"\n",
       "  248.062,1486.45 248.062,47.2441 \n",
       "  \"/>\n",
       "<polyline clip-path=\"url(#clip302)\" style=\"stroke:#000000; stroke-linecap:butt; stroke-linejoin:round; stroke-width:2; stroke-opacity:0.1; fill:none\" points=\"\n",
       "  656.74,1486.45 656.74,47.2441 \n",
       "  \"/>\n",
       "<polyline clip-path=\"url(#clip302)\" style=\"stroke:#000000; stroke-linecap:butt; stroke-linejoin:round; stroke-width:2; stroke-opacity:0.1; fill:none\" points=\"\n",
       "  1065.42,1486.45 1065.42,47.2441 \n",
       "  \"/>\n",
       "<polyline clip-path=\"url(#clip302)\" style=\"stroke:#000000; stroke-linecap:butt; stroke-linejoin:round; stroke-width:2; stroke-opacity:0.1; fill:none\" points=\"\n",
       "  1474.1,1486.45 1474.1,47.2441 \n",
       "  \"/>\n",
       "<polyline clip-path=\"url(#clip302)\" style=\"stroke:#000000; stroke-linecap:butt; stroke-linejoin:round; stroke-width:2; stroke-opacity:0.1; fill:none\" points=\"\n",
       "  1882.78,1486.45 1882.78,47.2441 \n",
       "  \"/>\n",
       "<polyline clip-path=\"url(#clip302)\" style=\"stroke:#000000; stroke-linecap:butt; stroke-linejoin:round; stroke-width:2; stroke-opacity:0.1; fill:none\" points=\"\n",
       "  2291.45,1486.45 2291.45,47.2441 \n",
       "  \"/>\n",
       "<polyline clip-path=\"url(#clip300)\" style=\"stroke:#000000; stroke-linecap:butt; stroke-linejoin:round; stroke-width:4; stroke-opacity:1; fill:none\" points=\"\n",
       "  186.76,1486.45 2352.76,1486.45 \n",
       "  \"/>\n",
       "<polyline clip-path=\"url(#clip300)\" style=\"stroke:#000000; stroke-linecap:butt; stroke-linejoin:round; stroke-width:4; stroke-opacity:1; fill:none\" points=\"\n",
       "  248.062,1486.45 248.062,1469.18 \n",
       "  \"/>\n",
       "<polyline clip-path=\"url(#clip300)\" style=\"stroke:#000000; stroke-linecap:butt; stroke-linejoin:round; stroke-width:4; stroke-opacity:1; fill:none\" points=\"\n",
       "  656.74,1486.45 656.74,1469.18 \n",
       "  \"/>\n",
       "<polyline clip-path=\"url(#clip300)\" style=\"stroke:#000000; stroke-linecap:butt; stroke-linejoin:round; stroke-width:4; stroke-opacity:1; fill:none\" points=\"\n",
       "  1065.42,1486.45 1065.42,1469.18 \n",
       "  \"/>\n",
       "<polyline clip-path=\"url(#clip300)\" style=\"stroke:#000000; stroke-linecap:butt; stroke-linejoin:round; stroke-width:4; stroke-opacity:1; fill:none\" points=\"\n",
       "  1474.1,1486.45 1474.1,1469.18 \n",
       "  \"/>\n",
       "<polyline clip-path=\"url(#clip300)\" style=\"stroke:#000000; stroke-linecap:butt; stroke-linejoin:round; stroke-width:4; stroke-opacity:1; fill:none\" points=\"\n",
       "  1882.78,1486.45 1882.78,1469.18 \n",
       "  \"/>\n",
       "<polyline clip-path=\"url(#clip300)\" style=\"stroke:#000000; stroke-linecap:butt; stroke-linejoin:round; stroke-width:4; stroke-opacity:1; fill:none\" points=\"\n",
       "  2291.45,1486.45 2291.45,1469.18 \n",
       "  \"/>\n",
       "<path clip-path=\"url(#clip300)\" d=\"M238.444 1543.18 L246.083 1543.18 L246.083 1516.82 L237.773 1518.49 L237.773 1514.23 L246.036 1512.56 L250.712 1512.56 L250.712 1543.18 L258.351 1543.18 L258.351 1547.12 L238.444 1547.12 L238.444 1543.18 Z\" fill=\"#000000\" fill-rule=\"evenodd\" fill-opacity=\"1\" /><path clip-path=\"url(#clip300)\" d=\"M651.393 1543.18 L667.712 1543.18 L667.712 1547.12 L645.768 1547.12 L645.768 1543.18 Q648.43 1540.43 653.013 1535.8 Q657.62 1531.15 658.801 1529.81 Q661.046 1527.28 661.925 1525.55 Q662.828 1523.79 662.828 1522.1 Q662.828 1519.34 660.884 1517.61 Q658.963 1515.87 655.861 1515.87 Q653.662 1515.87 651.208 1516.63 Q648.777 1517.4 646 1518.95 L646 1514.23 Q648.824 1513.09 651.277 1512.51 Q653.731 1511.93 655.768 1511.93 Q661.138 1511.93 664.333 1514.62 Q667.527 1517.31 667.527 1521.8 Q667.527 1523.93 666.717 1525.85 Q665.93 1527.74 663.824 1530.34 Q663.245 1531.01 660.143 1534.23 Q657.041 1537.42 651.393 1543.18 Z\" fill=\"#000000\" fill-rule=\"evenodd\" fill-opacity=\"1\" /><path clip-path=\"url(#clip300)\" d=\"M1069.67 1528.49 Q1073.02 1529.2 1074.9 1531.47 Q1076.8 1533.74 1076.8 1537.07 Q1076.8 1542.19 1073.28 1544.99 Q1069.76 1547.79 1063.28 1547.79 Q1061.1 1547.79 1058.79 1547.35 Q1056.5 1546.93 1054.04 1546.08 L1054.04 1541.56 Q1055.99 1542.7 1058.3 1543.28 Q1060.62 1543.86 1063.14 1543.86 Q1067.54 1543.86 1069.83 1542.12 Q1072.14 1540.38 1072.14 1537.07 Q1072.14 1534.02 1069.99 1532.31 Q1067.86 1530.57 1064.04 1530.57 L1060.01 1530.57 L1060.01 1526.73 L1064.23 1526.73 Q1067.68 1526.73 1069.5 1525.36 Q1071.33 1523.97 1071.33 1521.38 Q1071.33 1518.72 1069.43 1517.31 Q1067.56 1515.87 1064.04 1515.87 Q1062.12 1515.87 1059.92 1516.29 Q1057.72 1516.7 1055.08 1517.58 L1055.08 1513.42 Q1057.75 1512.68 1060.06 1512.31 Q1062.4 1511.93 1064.46 1511.93 Q1069.78 1511.93 1072.88 1514.37 Q1075.99 1516.77 1075.99 1520.89 Q1075.99 1523.76 1074.34 1525.75 Q1072.7 1527.72 1069.67 1528.49 Z\" fill=\"#000000\" fill-rule=\"evenodd\" fill-opacity=\"1\" /><path clip-path=\"url(#clip300)\" d=\"M1477.11 1516.63 L1465.3 1535.08 L1477.11 1535.08 L1477.11 1516.63 M1475.88 1512.56 L1481.76 1512.56 L1481.76 1535.08 L1486.69 1535.08 L1486.69 1538.97 L1481.76 1538.97 L1481.76 1547.12 L1477.11 1547.12 L1477.11 1538.97 L1461.5 1538.97 L1461.5 1534.46 L1475.88 1512.56 Z\" fill=\"#000000\" fill-rule=\"evenodd\" fill-opacity=\"1\" /><path clip-path=\"url(#clip300)\" d=\"M1873.05 1512.56 L1891.41 1512.56 L1891.41 1516.5 L1877.34 1516.5 L1877.34 1524.97 Q1878.35 1524.62 1879.37 1524.46 Q1880.39 1524.27 1881.41 1524.27 Q1887.2 1524.27 1890.58 1527.44 Q1893.96 1530.62 1893.96 1536.03 Q1893.96 1541.61 1890.48 1544.71 Q1887.01 1547.79 1880.69 1547.79 Q1878.52 1547.79 1876.25 1547.42 Q1874 1547.05 1871.6 1546.31 L1871.6 1541.61 Q1873.68 1542.74 1875.9 1543.3 Q1878.12 1543.86 1880.6 1543.86 Q1884.6 1543.86 1886.94 1541.75 Q1889.28 1539.64 1889.28 1536.03 Q1889.28 1532.42 1886.94 1530.31 Q1884.6 1528.21 1880.6 1528.21 Q1878.72 1528.21 1876.85 1528.62 Q1875 1529.04 1873.05 1529.92 L1873.05 1512.56 Z\" fill=\"#000000\" fill-rule=\"evenodd\" fill-opacity=\"1\" /><path clip-path=\"url(#clip300)\" d=\"M2291.86 1527.98 Q2288.71 1527.98 2286.86 1530.13 Q2285.03 1532.28 2285.03 1536.03 Q2285.03 1539.76 2286.86 1541.93 Q2288.71 1544.09 2291.86 1544.09 Q2295.01 1544.09 2296.84 1541.93 Q2298.69 1539.76 2298.69 1536.03 Q2298.69 1532.28 2296.84 1530.13 Q2295.01 1527.98 2291.86 1527.98 M2301.14 1513.32 L2301.14 1517.58 Q2299.38 1516.75 2297.58 1516.31 Q2295.79 1515.87 2294.04 1515.87 Q2289.41 1515.87 2286.95 1519 Q2284.52 1522.12 2284.17 1528.44 Q2285.54 1526.43 2287.6 1525.36 Q2289.66 1524.27 2292.14 1524.27 Q2297.35 1524.27 2300.35 1527.44 Q2303.39 1530.59 2303.39 1536.03 Q2303.39 1541.36 2300.24 1544.57 Q2297.09 1547.79 2291.86 1547.79 Q2285.86 1547.79 2282.69 1543.21 Q2279.52 1538.6 2279.52 1529.87 Q2279.52 1521.68 2283.41 1516.82 Q2287.3 1511.93 2293.85 1511.93 Q2295.61 1511.93 2297.39 1512.28 Q2299.2 1512.63 2301.14 1513.32 Z\" fill=\"#000000\" fill-rule=\"evenodd\" fill-opacity=\"1\" /><polyline clip-path=\"url(#clip302)\" style=\"stroke:#000000; stroke-linecap:butt; stroke-linejoin:round; stroke-width:2; stroke-opacity:0.1; fill:none\" points=\"\n",
       "  186.76,1225.67 2352.76,1225.67 \n",
       "  \"/>\n",
       "<polyline clip-path=\"url(#clip302)\" style=\"stroke:#000000; stroke-linecap:butt; stroke-linejoin:round; stroke-width:2; stroke-opacity:0.1; fill:none\" points=\"\n",
       "  186.76,938.553 2352.76,938.553 \n",
       "  \"/>\n",
       "<polyline clip-path=\"url(#clip302)\" style=\"stroke:#000000; stroke-linecap:butt; stroke-linejoin:round; stroke-width:2; stroke-opacity:0.1; fill:none\" points=\"\n",
       "  186.76,651.438 2352.76,651.438 \n",
       "  \"/>\n",
       "<polyline clip-path=\"url(#clip302)\" style=\"stroke:#000000; stroke-linecap:butt; stroke-linejoin:round; stroke-width:2; stroke-opacity:0.1; fill:none\" points=\"\n",
       "  186.76,364.324 2352.76,364.324 \n",
       "  \"/>\n",
       "<polyline clip-path=\"url(#clip302)\" style=\"stroke:#000000; stroke-linecap:butt; stroke-linejoin:round; stroke-width:2; stroke-opacity:0.1; fill:none\" points=\"\n",
       "  186.76,77.2095 2352.76,77.2095 \n",
       "  \"/>\n",
       "<polyline clip-path=\"url(#clip300)\" style=\"stroke:#000000; stroke-linecap:butt; stroke-linejoin:round; stroke-width:4; stroke-opacity:1; fill:none\" points=\"\n",
       "  186.76,1486.45 186.76,47.2441 \n",
       "  \"/>\n",
       "<polyline clip-path=\"url(#clip300)\" style=\"stroke:#000000; stroke-linecap:butt; stroke-linejoin:round; stroke-width:4; stroke-opacity:1; fill:none\" points=\"\n",
       "  186.76,1225.67 212.752,1225.67 \n",
       "  \"/>\n",
       "<polyline clip-path=\"url(#clip300)\" style=\"stroke:#000000; stroke-linecap:butt; stroke-linejoin:round; stroke-width:4; stroke-opacity:1; fill:none\" points=\"\n",
       "  186.76,938.553 212.752,938.553 \n",
       "  \"/>\n",
       "<polyline clip-path=\"url(#clip300)\" style=\"stroke:#000000; stroke-linecap:butt; stroke-linejoin:round; stroke-width:4; stroke-opacity:1; fill:none\" points=\"\n",
       "  186.76,651.438 212.752,651.438 \n",
       "  \"/>\n",
       "<polyline clip-path=\"url(#clip300)\" style=\"stroke:#000000; stroke-linecap:butt; stroke-linejoin:round; stroke-width:4; stroke-opacity:1; fill:none\" points=\"\n",
       "  186.76,364.324 212.752,364.324 \n",
       "  \"/>\n",
       "<polyline clip-path=\"url(#clip300)\" style=\"stroke:#000000; stroke-linecap:butt; stroke-linejoin:round; stroke-width:4; stroke-opacity:1; fill:none\" points=\"\n",
       "  186.76,77.2095 212.752,77.2095 \n",
       "  \"/>\n",
       "<path clip-path=\"url(#clip300)\" d=\"M63.5152 1211.47 Q59.9041 1211.47 58.0754 1215.03 Q56.2699 1218.57 56.2699 1225.7 Q56.2699 1232.81 58.0754 1236.37 Q59.9041 1239.91 63.5152 1239.91 Q67.1494 1239.91 68.955 1236.37 Q70.7837 1232.81 70.7837 1225.7 Q70.7837 1218.57 68.955 1215.03 Q67.1494 1211.47 63.5152 1211.47 M63.5152 1207.76 Q69.3254 1207.76 72.3809 1212.37 Q75.4596 1216.95 75.4596 1225.7 Q75.4596 1234.43 72.3809 1239.03 Q69.3254 1243.62 63.5152 1243.62 Q57.7051 1243.62 54.6264 1239.03 Q51.5708 1234.43 51.5708 1225.7 Q51.5708 1216.95 54.6264 1212.37 Q57.7051 1207.76 63.5152 1207.76 Z\" fill=\"#000000\" fill-rule=\"evenodd\" fill-opacity=\"1\" /><path clip-path=\"url(#clip300)\" d=\"M83.6771 1237.07 L88.5614 1237.07 L88.5614 1242.95 L83.6771 1242.95 L83.6771 1237.07 Z\" fill=\"#000000\" fill-rule=\"evenodd\" fill-opacity=\"1\" /><path clip-path=\"url(#clip300)\" d=\"M108.746 1211.47 Q105.135 1211.47 103.307 1215.03 Q101.501 1218.57 101.501 1225.7 Q101.501 1232.81 103.307 1236.37 Q105.135 1239.91 108.746 1239.91 Q112.381 1239.91 114.186 1236.37 Q116.015 1232.81 116.015 1225.7 Q116.015 1218.57 114.186 1215.03 Q112.381 1211.47 108.746 1211.47 M108.746 1207.76 Q114.557 1207.76 117.612 1212.37 Q120.691 1216.95 120.691 1225.7 Q120.691 1234.43 117.612 1239.03 Q114.557 1243.62 108.746 1243.62 Q102.936 1243.62 99.8576 1239.03 Q96.8021 1234.43 96.8021 1225.7 Q96.8021 1216.95 99.8576 1212.37 Q102.936 1207.76 108.746 1207.76 Z\" fill=\"#000000\" fill-rule=\"evenodd\" fill-opacity=\"1\" /><path clip-path=\"url(#clip300)\" d=\"M138.908 1226.53 Q135.575 1226.53 133.654 1228.32 Q131.756 1230.1 131.756 1233.22 Q131.756 1236.35 133.654 1238.13 Q135.575 1239.91 138.908 1239.91 Q142.242 1239.91 144.163 1238.13 Q146.084 1236.33 146.084 1233.22 Q146.084 1230.1 144.163 1228.32 Q142.265 1226.53 138.908 1226.53 M134.232 1224.54 Q131.223 1223.8 129.533 1221.74 Q127.867 1219.68 127.867 1216.72 Q127.867 1212.58 130.807 1210.17 Q133.769 1207.76 138.908 1207.76 Q144.07 1207.76 147.01 1210.17 Q149.95 1212.58 149.95 1216.72 Q149.95 1219.68 148.26 1221.74 Q146.593 1223.8 143.607 1224.54 Q146.987 1225.33 148.862 1227.62 Q150.76 1229.91 150.76 1233.22 Q150.76 1238.25 147.681 1240.93 Q144.626 1243.62 138.908 1243.62 Q133.191 1243.62 130.112 1240.93 Q127.057 1238.25 127.057 1233.22 Q127.057 1229.91 128.955 1227.62 Q130.853 1225.33 134.232 1224.54 M132.519 1217.16 Q132.519 1219.85 134.186 1221.35 Q135.876 1222.85 138.908 1222.85 Q141.918 1222.85 143.607 1221.35 Q145.32 1219.85 145.32 1217.16 Q145.32 1214.47 143.607 1212.97 Q141.918 1211.47 138.908 1211.47 Q135.876 1211.47 134.186 1212.97 Q132.519 1214.47 132.519 1217.16 Z\" fill=\"#000000\" fill-rule=\"evenodd\" fill-opacity=\"1\" /><path clip-path=\"url(#clip300)\" d=\"M63.4226 924.351 Q59.8115 924.351 57.9828 927.916 Q56.1773 931.458 56.1773 938.587 Q56.1773 945.694 57.9828 949.259 Q59.8115 952.8 63.4226 952.8 Q67.0569 952.8 68.8624 949.259 Q70.6911 945.694 70.6911 938.587 Q70.6911 931.458 68.8624 927.916 Q67.0569 924.351 63.4226 924.351 M63.4226 920.648 Q69.2328 920.648 72.2883 925.254 Q75.367 929.837 75.367 938.587 Q75.367 947.314 72.2883 951.921 Q69.2328 956.504 63.4226 956.504 Q57.6125 956.504 54.5338 951.921 Q51.4782 947.314 51.4782 938.587 Q51.4782 929.837 54.5338 925.254 Q57.6125 920.648 63.4226 920.648 Z\" fill=\"#000000\" fill-rule=\"evenodd\" fill-opacity=\"1\" /><path clip-path=\"url(#clip300)\" d=\"M83.5845 949.953 L88.4688 949.953 L88.4688 955.833 L83.5845 955.833 L83.5845 949.953 Z\" fill=\"#000000\" fill-rule=\"evenodd\" fill-opacity=\"1\" /><path clip-path=\"url(#clip300)\" d=\"M99.4641 951.897 L107.103 951.897 L107.103 925.532 L98.7928 927.198 L98.7928 922.939 L107.057 921.273 L111.733 921.273 L111.733 951.897 L119.371 951.897 L119.371 955.833 L99.4641 955.833 L99.4641 951.897 Z\" fill=\"#000000\" fill-rule=\"evenodd\" fill-opacity=\"1\" /><path clip-path=\"url(#clip300)\" d=\"M138.816 924.351 Q135.205 924.351 133.376 927.916 Q131.57 931.458 131.57 938.587 Q131.57 945.694 133.376 949.259 Q135.205 952.8 138.816 952.8 Q142.45 952.8 144.256 949.259 Q146.084 945.694 146.084 938.587 Q146.084 931.458 144.256 927.916 Q142.45 924.351 138.816 924.351 M138.816 920.648 Q144.626 920.648 147.681 925.254 Q150.76 929.837 150.76 938.587 Q150.76 947.314 147.681 951.921 Q144.626 956.504 138.816 956.504 Q133.006 956.504 129.927 951.921 Q126.871 947.314 126.871 938.587 Q126.871 929.837 129.927 925.254 Q133.006 920.648 138.816 920.648 Z\" fill=\"#000000\" fill-rule=\"evenodd\" fill-opacity=\"1\" /><path clip-path=\"url(#clip300)\" d=\"M65.0198 637.237 Q61.4087 637.237 59.58 640.802 Q57.7745 644.343 57.7745 651.473 Q57.7745 658.579 59.58 662.144 Q61.4087 665.686 65.0198 665.686 Q68.6541 665.686 70.4596 662.144 Q72.2883 658.579 72.2883 651.473 Q72.2883 644.343 70.4596 640.802 Q68.6541 637.237 65.0198 637.237 M65.0198 633.533 Q70.83 633.533 73.8855 638.14 Q76.9642 642.723 76.9642 651.473 Q76.9642 660.2 73.8855 664.806 Q70.83 669.389 65.0198 669.389 Q59.2097 669.389 56.131 664.806 Q53.0754 660.2 53.0754 651.473 Q53.0754 642.723 56.131 638.14 Q59.2097 633.533 65.0198 633.533 Z\" fill=\"#000000\" fill-rule=\"evenodd\" fill-opacity=\"1\" /><path clip-path=\"url(#clip300)\" d=\"M85.1818 662.839 L90.066 662.839 L90.066 668.718 L85.1818 668.718 L85.1818 662.839 Z\" fill=\"#000000\" fill-rule=\"evenodd\" fill-opacity=\"1\" /><path clip-path=\"url(#clip300)\" d=\"M101.061 664.783 L108.7 664.783 L108.7 638.417 L100.39 640.084 L100.39 635.825 L108.654 634.158 L113.33 634.158 L113.33 664.783 L120.969 664.783 L120.969 668.718 L101.061 668.718 L101.061 664.783 Z\" fill=\"#000000\" fill-rule=\"evenodd\" fill-opacity=\"1\" /><path clip-path=\"url(#clip300)\" d=\"M134.441 664.783 L150.76 664.783 L150.76 668.718 L128.816 668.718 L128.816 664.783 Q131.478 662.028 136.061 657.399 Q140.668 652.746 141.848 651.403 Q144.093 648.88 144.973 647.144 Q145.876 645.385 145.876 643.695 Q145.876 640.941 143.931 639.204 Q142.01 637.468 138.908 637.468 Q136.709 637.468 134.256 638.232 Q131.825 638.996 129.047 640.547 L129.047 635.825 Q131.871 634.691 134.325 634.112 Q136.779 633.533 138.816 633.533 Q144.186 633.533 147.38 636.218 Q150.575 638.904 150.575 643.394 Q150.575 645.524 149.765 647.445 Q148.978 649.343 146.871 651.936 Q146.293 652.607 143.191 655.825 Q140.089 659.019 134.441 664.783 Z\" fill=\"#000000\" fill-rule=\"evenodd\" fill-opacity=\"1\" /><path clip-path=\"url(#clip300)\" d=\"M62.9365 350.123 Q59.3254 350.123 57.4967 353.687 Q55.6912 357.229 55.6912 364.359 Q55.6912 371.465 57.4967 375.03 Q59.3254 378.571 62.9365 378.571 Q66.5707 378.571 68.3763 375.03 Q70.205 371.465 70.205 364.359 Q70.205 357.229 68.3763 353.687 Q66.5707 350.123 62.9365 350.123 M62.9365 346.419 Q68.7467 346.419 71.8022 351.025 Q74.8809 355.609 74.8809 364.359 Q74.8809 373.085 71.8022 377.692 Q68.7467 382.275 62.9365 382.275 Q57.1264 382.275 54.0477 377.692 Q50.9921 373.085 50.9921 364.359 Q50.9921 355.609 54.0477 351.025 Q57.1264 346.419 62.9365 346.419 Z\" fill=\"#000000\" fill-rule=\"evenodd\" fill-opacity=\"1\" /><path clip-path=\"url(#clip300)\" d=\"M83.0984 375.724 L87.9827 375.724 L87.9827 381.604 L83.0984 381.604 L83.0984 375.724 Z\" fill=\"#000000\" fill-rule=\"evenodd\" fill-opacity=\"1\" /><path clip-path=\"url(#clip300)\" d=\"M98.978 377.669 L106.617 377.669 L106.617 351.303 L98.3067 352.97 L98.3067 348.711 L106.571 347.044 L111.246 347.044 L111.246 377.669 L118.885 377.669 L118.885 381.604 L98.978 381.604 L98.978 377.669 Z\" fill=\"#000000\" fill-rule=\"evenodd\" fill-opacity=\"1\" /><path clip-path=\"url(#clip300)\" d=\"M141.177 351.118 L129.371 369.567 L141.177 369.567 L141.177 351.118 M139.95 347.044 L145.83 347.044 L145.83 369.567 L150.76 369.567 L150.76 373.456 L145.83 373.456 L145.83 381.604 L141.177 381.604 L141.177 373.456 L125.575 373.456 L125.575 368.942 L139.95 347.044 Z\" fill=\"#000000\" fill-rule=\"evenodd\" fill-opacity=\"1\" /><path clip-path=\"url(#clip300)\" d=\"M63.2606 63.0082 Q59.6495 63.0082 57.8208 66.573 Q56.0152 70.1146 56.0152 77.2442 Q56.0152 84.3507 57.8208 87.9154 Q59.6495 91.4571 63.2606 91.4571 Q66.8948 91.4571 68.7004 87.9154 Q70.5291 84.3507 70.5291 77.2442 Q70.5291 70.1146 68.7004 66.573 Q66.8948 63.0082 63.2606 63.0082 M63.2606 59.3045 Q69.0707 59.3045 72.1263 63.9109 Q75.205 68.4943 75.205 77.2442 Q75.205 85.971 72.1263 90.5775 Q69.0707 95.1608 63.2606 95.1608 Q57.4504 95.1608 54.3717 90.5775 Q51.3162 85.971 51.3162 77.2442 Q51.3162 68.4943 54.3717 63.9109 Q57.4504 59.3045 63.2606 59.3045 Z\" fill=\"#000000\" fill-rule=\"evenodd\" fill-opacity=\"1\" /><path clip-path=\"url(#clip300)\" d=\"M83.4225 88.6099 L88.3067 88.6099 L88.3067 94.4895 L83.4225 94.4895 L83.4225 88.6099 Z\" fill=\"#000000\" fill-rule=\"evenodd\" fill-opacity=\"1\" /><path clip-path=\"url(#clip300)\" d=\"M99.3021 90.5543 L106.941 90.5543 L106.941 64.1887 L98.6308 65.8554 L98.6308 61.5961 L106.895 59.9295 L111.571 59.9295 L111.571 90.5543 L119.209 90.5543 L119.209 94.4895 L99.3021 94.4895 L99.3021 90.5543 Z\" fill=\"#000000\" fill-rule=\"evenodd\" fill-opacity=\"1\" /><path clip-path=\"url(#clip300)\" d=\"M139.232 75.3461 Q136.084 75.3461 134.232 77.4988 Q132.404 79.6516 132.404 83.4016 Q132.404 87.1284 134.232 89.3043 Q136.084 91.4571 139.232 91.4571 Q142.381 91.4571 144.209 89.3043 Q146.061 87.1284 146.061 83.4016 Q146.061 79.6516 144.209 77.4988 Q142.381 75.3461 139.232 75.3461 M148.515 60.6934 L148.515 64.9526 Q146.756 64.1193 144.95 63.6795 Q143.168 63.2397 141.408 63.2397 Q136.779 63.2397 134.325 66.3646 Q131.894 69.4896 131.547 75.809 Q132.913 73.7952 134.973 72.7303 Q137.033 71.6424 139.51 71.6424 Q144.718 71.6424 147.728 74.8137 Q150.76 77.9618 150.76 83.4016 Q150.76 88.7256 147.612 91.9432 Q144.464 95.1608 139.232 95.1608 Q133.237 95.1608 130.066 90.5775 Q126.894 85.971 126.894 77.2442 Q126.894 69.0498 130.783 64.1887 Q134.672 59.3045 141.223 59.3045 Q142.982 59.3045 144.765 59.6517 Q146.57 59.9989 148.515 60.6934 Z\" fill=\"#000000\" fill-rule=\"evenodd\" fill-opacity=\"1\" /><polyline clip-path=\"url(#clip302)\" style=\"stroke:#009af9; stroke-linecap:butt; stroke-linejoin:round; stroke-width:4; stroke-opacity:1; fill:none\" points=\"\n",
       "  248.062,87.9763 656.74,145.13 1065.42,442.329 1474.1,804.541 1882.78,1149.85 2291.45,1445.72 \n",
       "  \"/>\n",
       "<path clip-path=\"url(#clip300)\" d=\"\n",
       "M1987.46 216.178 L2280.56 216.178 L2280.56 95.2176 L1987.46 95.2176  Z\n",
       "  \" fill=\"#ffffff\" fill-rule=\"evenodd\" fill-opacity=\"1\"/>\n",
       "<polyline clip-path=\"url(#clip300)\" style=\"stroke:#000000; stroke-linecap:butt; stroke-linejoin:round; stroke-width:4; stroke-opacity:1; fill:none\" points=\"\n",
       "  1987.46,216.178 2280.56,216.178 2280.56,95.2176 1987.46,95.2176 1987.46,216.178 \n",
       "  \"/>\n",
       "<polyline clip-path=\"url(#clip300)\" style=\"stroke:#009af9; stroke-linecap:butt; stroke-linejoin:round; stroke-width:4; stroke-opacity:1; fill:none\" points=\"\n",
       "  2011.53,155.698 2155.93,155.698 \n",
       "  \"/>\n",
       "<path clip-path=\"url(#clip300)\" d=\"M2193.84 175.385 Q2192.03 180.015 2190.32 181.427 Q2188.6 182.839 2185.73 182.839 L2182.33 182.839 L2182.33 179.274 L2184.83 179.274 Q2186.59 179.274 2187.56 178.44 Q2188.53 177.607 2189.71 174.505 L2190.48 172.561 L2179.99 147.052 L2184.51 147.052 L2192.61 167.329 L2200.71 147.052 L2205.22 147.052 L2193.84 175.385 Z\" fill=\"#000000\" fill-rule=\"evenodd\" fill-opacity=\"1\" /><path clip-path=\"url(#clip300)\" d=\"M2212.52 169.042 L2220.15 169.042 L2220.15 142.677 L2211.84 144.343 L2211.84 140.084 L2220.11 138.418 L2224.78 138.418 L2224.78 169.042 L2232.42 169.042 L2232.42 172.978 L2212.52 172.978 L2212.52 169.042 Z\" fill=\"#000000\" fill-rule=\"evenodd\" fill-opacity=\"1\" /></svg>\n"
      ]
     },
     "execution_count": 235,
     "metadata": {},
     "output_type": "execute_result"
    }
   ],
   "source": [
    "plot(pd)"
   ]
  },
  {
   "cell_type": "code",
   "execution_count": 236,
   "id": "383a29d1-d251-44dd-a69a-533a74de212b",
   "metadata": {},
   "outputs": [
    {
     "data": {
      "text/plain": [
       "6-element Vector{Float64}:\n",
       " 0.15924999999999992\n",
       " 0.15526874999999998\n",
       " 0.13456624999999997\n",
       " 0.109335078125\n",
       " 0.08528136093749991\n",
       " 0.06467169871093754"
      ]
     },
     "execution_count": 236,
     "metadata": {},
     "output_type": "execute_result"
    }
   ],
   "source": [
    "pd"
   ]
  },
  {
   "cell_type": "code",
   "execution_count": 237,
   "id": "db7e4f65-1b6a-4424-bb7d-608af34a2465",
   "metadata": {},
   "outputs": [
    {
     "data": {
      "text/plain": [
       "6-element Vector{Float64}:\n",
       " 0.2248108962750274\n",
       " 0.2191906238681518\n",
       " 0.18996520735239822\n",
       " 0.15434673097382356\n",
       " 0.12039045015958226\n",
       " 0.09129609137101671"
      ]
     },
     "execution_count": 237,
     "metadata": {},
     "output_type": "execute_result"
    }
   ],
   "source": [
    "pd[:] = pd[1:end] ./ sum(pd[1:end])"
   ]
  },
  {
   "cell_type": "code",
   "execution_count": 238,
   "id": "8761a46b-0caf-4d13-9a5a-9f785c0e4d03",
   "metadata": {},
   "outputs": [
    {
     "data": {
      "text/plain": [
       "0.9999999999999999"
      ]
     },
     "execution_count": 238,
     "metadata": {},
     "output_type": "execute_result"
    }
   ],
   "source": [
    "sum(pd)"
   ]
  },
  {
   "cell_type": "code",
   "execution_count": 239,
   "id": "8e76c54d-229e-47c6-807a-b29ba66f89db",
   "metadata": {},
   "outputs": [
    {
     "data": {
      "text/plain": [
       "6-element Vector{Float64}:\n",
       " 0.09129609137101671\n",
       " 0.12039045015958226\n",
       " 0.15434673097382356\n",
       " 0.18996520735239822\n",
       " 0.2191906238681518\n",
       " 0.2248108962750274"
      ]
     },
     "execution_count": 239,
     "metadata": {},
     "output_type": "execute_result"
    }
   ],
   "source": [
    "reverse(pd)"
   ]
  },
  {
   "cell_type": "code",
   "execution_count": 240,
   "id": "de66478d-6641-410f-a740-dacc0995c7eb",
   "metadata": {},
   "outputs": [
    {
     "data": {
      "text/plain": [
       "6×4 Matrix{Float64}:\n",
       " 0.224811   0.0912961  0.12039    0.154347\n",
       " 0.219191   0.224811   0.0912961  0.12039\n",
       " 0.189965   0.219191   0.224811   0.0912961\n",
       " 0.154347   0.189965   0.219191   0.224811\n",
       " 0.12039    0.154347   0.189965   0.219191\n",
       " 0.0912961  0.12039    0.154347   0.189965"
      ]
     },
     "execution_count": 240,
     "metadata": {},
     "output_type": "execute_result"
    }
   ],
   "source": [
    "pd = nbtrials()"
   ]
  },
  {
   "cell_type": "code",
   "execution_count": 241,
   "id": "f3877fe9-2876-41ee-baec-13611c9d8a68",
   "metadata": {},
   "outputs": [
    {
     "data": {
      "text/plain": [
       "6×16 Matrix{Float64}:\n",
       " 0.224811   0.0912961  0.12039    …  0.189965   0.219191   0.224811\n",
       " 0.219191   0.224811   0.0912961     0.154347   0.189965   0.219191\n",
       " 0.189965   0.219191   0.224811      0.12039    0.154347   0.189965\n",
       " 0.154347   0.189965   0.219191      0.0912961  0.12039    0.154347\n",
       " 0.12039    0.154347   0.189965      0.224811   0.0912961  0.12039\n",
       " 0.0912961  0.12039    0.154347   …  0.219191   0.224811   0.0912961"
      ]
     },
     "execution_count": 241,
     "metadata": {},
     "output_type": "execute_result"
    }
   ],
   "source": [
    "hcat([circshift(pd,i) for i in 0:n_ranks-1]...)"
   ]
  },
  {
   "cell_type": "code",
   "execution_count": 242,
   "id": "6142adee-5da9-43ff-beff-c55eb6dcd291",
   "metadata": {
    "tags": []
   },
   "outputs": [
    {
     "data": {
      "text/plain": [
       "6×4 Matrix{Float64}:\n",
       " 0.224811   0.0912961  0.12039    0.154347\n",
       " 0.219191   0.224811   0.0912961  0.12039\n",
       " 0.189965   0.219191   0.224811   0.0912961\n",
       " 0.154347   0.189965   0.219191   0.224811\n",
       " 0.12039    0.154347   0.189965   0.219191\n",
       " 0.0912961  0.12039    0.154347   0.189965"
      ]
     },
     "execution_count": 242,
     "metadata": {},
     "output_type": "execute_result"
    }
   ],
   "source": [
    "prs = nbtrials(r=2, p=0.35, n_cans=6, n_ranks=4)"
   ]
  },
  {
   "cell_type": "code",
   "execution_count": 243,
   "id": "9756aa38-fd4f-4d61-aa9a-088cb1c5b18a",
   "metadata": {
    "tags": []
   },
   "outputs": [
    {
     "data": {
      "text/plain": [
       "Dict{Int64, Int64} with 6 entries:\n",
       "  5 => 15\n",
       "  4 => 11\n",
       "  6 => 6\n",
       "  2 => 26\n",
       "  3 => 21\n",
       "  1 => 21"
      ]
     },
     "execution_count": 243,
     "metadata": {},
     "output_type": "execute_result"
    }
   ],
   "source": [
    "countmap(categorical_sim(prs[:,1], n_voters))"
   ]
  },
  {
   "cell_type": "markdown",
   "id": "62fa303b-0fec-4b1e-8a46-49cb4fe11021",
   "metadata": {},
   "source": [
    "## use code to create runoff for tied \"losers\""
   ]
  },
  {
   "cell_type": "code",
   "execution_count": 244,
   "id": "fc394b35-972f-4fdd-8468-dd0328cfd8bf",
   "metadata": {},
   "outputs": [
    {
     "data": {
      "text/plain": [
       "8-element Vector{Int64}:\n",
       " 1\n",
       " 1\n",
       " 1\n",
       " 1\n",
       " 1\n",
       " 1\n",
       " 1\n",
       " 1"
      ]
     },
     "execution_count": 244,
     "metadata": {},
     "output_type": "execute_result"
    }
   ],
   "source": [
    "bsub = ballots_5[4:11,1:2]\n",
    "res = countmap(bsub[:,1])\n",
    "useranks = fill(1,8)"
   ]
  },
  {
   "cell_type": "code",
   "execution_count": 245,
   "id": "e5a49a7f-0fc2-45e6-82fa-71925097d0e6",
   "metadata": {},
   "outputs": [
    {
     "data": {
      "text/plain": [
       "([3], [Dict(5 => 2, 4 => 2, 2 => 2, 3 => 2), Dict(5 => 0, 4 => 1, 2 => 1, 3 => 6)])"
      ]
     },
     "execution_count": 245,
     "metadata": {},
     "output_type": "execute_result"
    }
   ],
   "source": [
    "w = vote_count(bsub, quiet=true, stopstep=2)"
   ]
  },
  {
   "cell_type": "code",
   "execution_count": 246,
   "id": "7524ec5d-7555-4911-8aea-75424edc84eb",
   "metadata": {},
   "outputs": [
    {
     "data": {
      "text/plain": [
       "1-element Vector{Int64}:\n",
       " 3"
      ]
     },
     "execution_count": 246,
     "metadata": {},
     "output_type": "execute_result"
    }
   ],
   "source": [
    "w[1]"
   ]
  },
  {
   "cell_type": "code",
   "execution_count": 247,
   "id": "3e453af0-0712-4f82-862e-38c5b1fead86",
   "metadata": {},
   "outputs": [
    {
     "data": {
      "text/plain": [
       "Dict{Int64, Int64} with 4 entries:\n",
       "  5 => 0\n",
       "  4 => 1\n",
       "  2 => 1\n",
       "  3 => 6"
      ]
     },
     "execution_count": 247,
     "metadata": {},
     "output_type": "execute_result"
    }
   ],
   "source": [
    "d = Dict(5=>0,4=>1,2=>1,3=>6)"
   ]
  },
  {
   "cell_type": "code",
   "execution_count": 248,
   "id": "1c4544b0-0a80-450d-948c-cd48473b7f80",
   "metadata": {},
   "outputs": [
    {
     "name": "stdout",
     "output_type": "stream",
     "text": [
      "  0.000005 seconds (1 allocation: 16 bytes)\n"
     ]
    },
    {
     "data": {
      "text/plain": [
       "KeySet for a Dict{Int64, Int64} with 4 entries. Keys:\n",
       "  5\n",
       "  4\n",
       "  2\n",
       "  3"
      ]
     },
     "execution_count": 248,
     "metadata": {},
     "output_type": "execute_result"
    }
   ],
   "source": [
    "@time kd = keys(d)"
   ]
  },
  {
   "cell_type": "code",
   "execution_count": 249,
   "id": "4a94430d-6e2f-4511-b155-180c3090505d",
   "metadata": {},
   "outputs": [
    {
     "data": {
      "text/plain": [
       "(:dict,)"
      ]
     },
     "execution_count": 249,
     "metadata": {},
     "output_type": "execute_result"
    }
   ],
   "source": [
    "fieldnames(typeof(kd))"
   ]
  },
  {
   "cell_type": "code",
   "execution_count": 250,
   "id": "34cfb3fa-3622-4065-ad64-c9e941529294",
   "metadata": {},
   "outputs": [
    {
     "name": "stdout",
     "output_type": "stream",
     "text": [
      "Base.summarysize(kd) = 464\n",
      "Base.summarysize(d) = 456\n"
     ]
    },
    {
     "data": {
      "text/plain": [
       "456"
      ]
     },
     "execution_count": 250,
     "metadata": {},
     "output_type": "execute_result"
    }
   ],
   "source": [
    "@show Base.summarysize(kd) \n",
    "@show Base.summarysize(d)"
   ]
  },
  {
   "cell_type": "code",
   "execution_count": 251,
   "id": "f56dd9ac-6076-4a61-a55e-f46357c0924c",
   "metadata": {},
   "outputs": [
    {
     "data": {
      "text/plain": [
       "Base.ValueIterator{Dict{Int64, Int64}}"
      ]
     },
     "execution_count": 251,
     "metadata": {},
     "output_type": "execute_result"
    }
   ],
   "source": [
    "typeof(values(d))"
   ]
  },
  {
   "cell_type": "code",
   "execution_count": 252,
   "id": "f78430bc-fe10-4ea3-91b2-3ce1efc3e61f",
   "metadata": {},
   "outputs": [
    {
     "data": {
      "text/plain": [
       "true"
      ]
     },
     "execution_count": 252,
     "metadata": {},
     "output_type": "execute_result"
    }
   ],
   "source": [
    "maxv = -typemin(Int)\n",
    "maxk = 0\n",
    "for pr in d\n",
    "    if pr[2] > maxv\n",
    "        maxv = pr[2]; maxk = pr[1]\n",
    "    end\n",
    "end\n",
    "(maxk, maxv)\n",
    ">(6,3)"
   ]
  },
  {
   "cell_type": "code",
   "execution_count": 253,
   "id": "51afc13c-b7d6-4748-ab35-53c147dc369a",
   "metadata": {
    "lines_to_next_cell": 2
   },
   "outputs": [
    {
     "data": {
      "text/plain": [
       "dictcomp (generic function with 1 method)"
      ]
     },
     "execution_count": 253,
     "metadata": {},
     "output_type": "execute_result"
    }
   ],
   "source": [
    "function dictcomp(dd, op)\n",
    "    selv = if op == < \n",
    "        typemax(valtype(dd)) \n",
    "    elseif op == >\n",
    "        typemin(valtype(dd))\n",
    "    else\n",
    "        @assert false \"Op must be > or <\"\n",
    "    end\n",
    "    selk = 0\n",
    "    for pr in dd\n",
    "        if op(pr[2],selv)\n",
    "            selv = pr[2]; selk = pr[1]\n",
    "        end\n",
    "    end\n",
    "    return selk=>selv\n",
    "end"
   ]
  },
  {
   "cell_type": "code",
   "execution_count": 254,
   "id": "abcb8eb1-4ada-4c54-aa7e-fe3bbb1c2130",
   "metadata": {},
   "outputs": [
    {
     "data": {
      "text/plain": [
       "Pair{Int64, Int64}"
      ]
     },
     "execution_count": 254,
     "metadata": {},
     "output_type": "execute_result"
    }
   ],
   "source": [
    "eltype(d)"
   ]
  },
  {
   "cell_type": "code",
   "execution_count": 255,
   "id": "9faf8876-6767-45c6-b13d-f2f3d8c4d9ba",
   "metadata": {},
   "outputs": [
    {
     "data": {
      "text/plain": [
       "Int64"
      ]
     },
     "execution_count": 255,
     "metadata": {},
     "output_type": "execute_result"
    }
   ],
   "source": [
    "eltype(ans)"
   ]
  },
  {
   "cell_type": "code",
   "execution_count": 256,
   "id": "0378286e-254d-4acc-9b60-30c75d8b7f60",
   "metadata": {},
   "outputs": [
    {
     "data": {
      "text/plain": [
       "8-element Vector{Int64}:\n",
       "  4\n",
       "  5\n",
       "  6\n",
       "  7\n",
       "  8\n",
       "  9\n",
       " 10\n",
       " 11"
      ]
     },
     "execution_count": 256,
     "metadata": {},
     "output_type": "execute_result"
    }
   ],
   "source": [
    "findall(indexin(ballots_5[:,1], [2,3,4,5]) .!= nothing)"
   ]
  },
  {
   "cell_type": "code",
   "execution_count": 257,
   "id": "59e77687-f5ce-4656-942e-e4770b43beb6",
   "metadata": {},
   "outputs": [
    {
     "data": {
      "text/plain": [
       "3-element Vector{Int64}:\n",
       " 4\n",
       " 5\n",
       " 2"
      ]
     },
     "execution_count": 257,
     "metadata": {},
     "output_type": "execute_result"
    }
   ],
   "source": [
    "losers = [4,5,3,2]\n",
    "pos = findall(indexin(losers, [3]) .!= nothing)\n",
    "deleteat!(losers, pos)"
   ]
  },
  {
   "cell_type": "code",
   "execution_count": 258,
   "id": "b7442e63-2208-4ff7-bbab-6a3c4149de15",
   "metadata": {},
   "outputs": [
    {
     "data": {
      "text/plain": [
       "Dict{Int64, Int64} with 5 entries:\n",
       "  5 => 2\n",
       "  4 => 2\n",
       "  2 => 2\n",
       "  3 => 2\n",
       "  1 => 3"
      ]
     },
     "execution_count": 258,
     "metadata": {},
     "output_type": "execute_result"
    }
   ],
   "source": [
    "result5 = countmap(ballots_5[:,1], alg=:dict)"
   ]
  },
  {
   "cell_type": "code",
   "execution_count": 259,
   "id": "cc52ee84-5358-4942-8da7-07145f8f9ff8",
   "metadata": {},
   "outputs": [
    {
     "name": "stdout",
     "output_type": "stream",
     "text": [
      "\n",
      "Step 2: got to more than 3 candidates\n",
      "starting position\n",
      "Tie!\n",
      "{5 : 2, 4 : 2, 2 : 2, 3 : 2}\n",
      "reassigned\n",
      "{\n",
      "  2 => 3 : 2,\n",
      "  3 => 4 : 1,\n",
      "  4 => 3 : 2,\n",
      "  3 => 2 : 1,\n",
      "  5 => 3 : 2,\n",
      "}\n",
      "outcome\n",
      "{5 : 0, 4 : 1, 2 : 1, 3 : 6}\n",
      "Final outcome\n",
      "{5 : 0, 4 : 1, 2 : 1, 3 : 6}\n"
     ]
    },
    {
     "data": {
      "text/plain": [
       "(2, [5, 4, 2], [4, 5, 8, 9, 10, 11])"
      ]
     },
     "execution_count": 259,
     "metadata": {},
     "output_type": "execute_result"
    }
   ],
   "source": [
    "find_losers(ballots_5, 1, [result5])"
   ]
  },
  {
   "cell_type": "code",
   "execution_count": null,
   "id": "258f8b9b-690d-493a-9845-df6f6a16688b",
   "metadata": {},
   "outputs": [],
   "source": []
  }
 ],
 "metadata": {
  "jupytext": {
   "formats": "ipynb,jl:percent"
  },
  "kernelspec": {
   "display_name": "Julia 1.6.0",
   "language": "julia",
   "name": "julia-1.6"
  },
  "language_info": {
   "file_extension": ".jl",
   "mimetype": "application/julia",
   "name": "julia",
   "version": "1.6.0"
  }
 },
 "nbformat": 4,
 "nbformat_minor": 5
}
